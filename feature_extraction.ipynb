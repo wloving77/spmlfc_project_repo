{
 "cells": [
  {
   "cell_type": "code",
   "execution_count": null,
   "metadata": {},
   "outputs": [],
   "source": [
    "import pandas as pd\n",
    "import numpy as np\n",
    "import glob\n",
    "\n",
    "# Function to process and convert custom timestamp format\n",
    "def convert_custom_timestamp(epoch_str):\n",
    "    # Separate seconds and milliseconds (nanoseconds)\n",
    "    seconds_part = int(epoch_str[:-3])  # All digits except last 3 are seconds\n",
    "    milliseconds_part = int(epoch_str[-3:])  # Last 3 digits represent milliseconds\n",
    "    # Combine to get a float representation in seconds\n",
    "    return seconds_part + (milliseconds_part / 1000)\n",
    "\n",
    "# Function to extract features from each one-second window\n",
    "def extract_features(df, label):\n",
    "    features = []\n",
    "\n",
    "    # Apply custom timestamp conversion\n",
    "    df['timestamp'] = df['timestamp'].astype(str).apply(convert_custom_timestamp)\n",
    "\n",
    "    # Set the window size to 1 second\n",
    "    window_size = 1.0  # in seconds\n",
    "    \n",
    "    # Initialize the starting timestamp\n",
    "    start_time = df['timestamp'].iloc[0]\n",
    "    \n",
    "    # Loop through data to extract features for each one-second window\n",
    "    while start_time + window_size <= df['timestamp'].iloc[-1]:\n",
    "        # Select data within the one-second window\n",
    "        window = df[(df['timestamp'] >= start_time) & (df['timestamp'] < start_time + window_size)]\n",
    "        \n",
    "        if not window.empty:\n",
    "            mean_x, std_x = window['X'].mean(), window['X'].std()\n",
    "            mean_y, std_y = window['Y'].mean(), window['Y'].std()\n",
    "            mean_z, std_z = window['Z'].mean(), window['Z'].std()\n",
    "            \n",
    "            # Append features and label to the list\n",
    "            features.append([mean_x, std_x, mean_y, std_y, mean_z, std_z, label])\n",
    "        \n",
    "        # Move to the next window\n",
    "        start_time += window_size\n",
    "    \n",
    "    return features\n",
    "\n",
    "\n"
   ]
  }
 ],
 "metadata": {
  "language_info": {
   "name": "python"
  }
 },
 "nbformat": 4,
 "nbformat_minor": 2
}
