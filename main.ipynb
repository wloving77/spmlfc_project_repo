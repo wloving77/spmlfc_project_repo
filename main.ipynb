{
 "cells": [
  {
   "cell_type": "code",
   "execution_count": null,
   "metadata": {},
   "outputs": [],
   "source": [
    "import sklearn as sk\n",
    "import pandas as pd\n",
    "\n",
    "def get_df(path, label):\n",
    "    df = pd.read_csv(path, header=None)\n",
    "    df[0] = pd.to_datetime(df[0], unit='ms')\n",
    "    df[0] = df[0].dt.floor('s')\n",
    "    gdf1 = df.iloc[:,1:].groupby(df[0]).agg(['mean', 'std'])\n",
    "    gdf1['label'] = label\n",
    "df1 = get_df('sw', 0)\n",
    "df2 = get_df('sw else', 1)\n",
    "aggdf = pd.concat([df1, df2])"
   ]
  },
  {
   "cell_type": "code",
   "execution_count": null,
   "metadata": {},
   "outputs": [],
   "source": [
    "from pathlib import Path"
   ]
  }
 ],
 "metadata": {
  "kernelspec": {
   "display_name": "torch",
   "language": "python",
   "name": "python3"
  },
  "language_info": {
   "codemirror_mode": {
    "name": "ipython",
    "version": 3
   },
   "file_extension": ".py",
   "mimetype": "text/x-python",
   "name": "python",
   "nbconvert_exporter": "python",
   "pygments_lexer": "ipython3",
   "version": "3.12.7"
  }
 },
 "nbformat": 4,
 "nbformat_minor": 2
}
